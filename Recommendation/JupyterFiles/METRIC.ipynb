{
 "cells": [
  {
   "cell_type": "code",
   "execution_count": 1,
   "metadata": {},
   "outputs": [
    {
     "name": "stdout",
     "output_type": "stream",
     "text": [
      "[1539, 5126, 5128, 3596, 5135, 3089, 3093, 2588, 2078, 4642, 1064, 1577, 1580, 4142, 2096, 51, 2615, 2106, 59, 4156, 2628, 3145, 76, 1114, 5215, 4211, 118, 127, 3716, 2191, 5782, 4253, 2724, 3364, 2221, 4282, 2237, 2750, 4813, 1743, 2259, 2265, 4319, 3808, 3298, 235, 5365, 251, 2812, 2815, 5891, 2321, 1298, 5398, 4897, 804, 3880, 813, 814, 4401, 1347, 2376, 3914, 3917, 2382, 910, 2391, 2393, 1379, 5480, 3470, 6003, 3445, 888, 4987, 1411, 4999, 3466, 909, 5006, 413, 4000, 2981, 424, 3512, 4084, 1978, 2499, 3524, 1485, 3033, 474, 4572, 477, 5088, 1011, 500, 3068, 5973]\n",
      "Checkpoint 1\n",
      "0.00964528512299\n",
      "0.926080271319\n",
      "0.0188659705805\n"
     ]
    }
   ],
   "source": [
    "import pandas as pd\n",
    "df1=pd.read_csv('/Users/manasakumar/Desktop/ml-1m/test.csv')\n",
    "df2=pd.read_csv('/Users/manasakumar/Desktop/results-2.csv')\n",
    "user_ids_df=df2['0']\n",
    "user_ids=list(user_ids_df)\n",
    "print user_ids\n",
    "all_user_movie_ids=[]\n",
    "for index in xrange(len(user_ids)):#len(user_ids)\n",
    "    single_user_movie_ids=[]\n",
    "    single_user_id=user_ids[index]\n",
    "    #if index>single_user_id:\n",
    "    #    break\n",
    "    for i in xrange(len(df1)):\n",
    "        if (df1.iloc[i]['user_id']==single_user_id):\n",
    "            single_user_movie_ids.append(df1.iloc[i]['movie_id'])\n",
    "    all_user_movie_ids.append(single_user_movie_ids)\n",
    "#print all_user_movie_ids\n",
    "\n",
    "all_user_movie_ids_res=[]\n",
    "for index2 in xrange(len(df2)): #len(df2)\n",
    "    single_user_movie_ids=[]\n",
    "    list_form=list(df2.iloc[index2])\n",
    "    single_user_movie_ids=list_form[2:]\n",
    "    all_user_movie_ids_res.append(single_user_movie_ids)\n",
    "    \n",
    "#print all_user_movie_ids_res\n",
    "\n",
    "print 'Checkpoint 1'\n",
    "\n",
    "predicted_articles=all_user_movie_ids_res\n",
    "real_articles=all_user_movie_ids\n",
    "\n",
    "\n",
    "from __future__ import division\n",
    "\n",
    "def calc_precision(pa,ra):\n",
    "    len_predicted_list=len(pa)\n",
    "    ia=set(pa).intersection(ra)\n",
    "    len_intersected_list=len(ia)\n",
    "    user_prec=len_intersected_list/len_predicted_list\n",
    "    return user_prec\n",
    "\n",
    "def calc_recall(pa,ra):\n",
    "    len_real_list=len(ra)\n",
    "    ia=set(pa).intersection(ra)\n",
    "    len_intersected_list=len(ia)\n",
    "    user_recall=len_intersected_list/len_real_list\n",
    "    return user_recall\n",
    "\n",
    "def calc_f1(user_precision,user_recall):\n",
    "    num=(2*user_precision*user_recall)\n",
    "    den=(user_precision+user_recall)\n",
    "    user_f1=num/den\n",
    "    return user_f1\n",
    "\n",
    "\n",
    "total_precision=0\n",
    "total_recall=0\n",
    "total_f1=0\n",
    "\n",
    "num_of_users=len(predicted_articles)\n",
    "\n",
    "for user in xrange(num_of_users):\n",
    "    \n",
    "    pa=predicted_articles[user]\n",
    "    ra=real_articles[user]\n",
    "    \n",
    "    user_precision=calc_precision(pa,ra)\n",
    "    total_precision+=user_precision\n",
    "    \n",
    "    user_recall=calc_recall(pa,ra)\n",
    "    total_recall+=user_recall\n",
    "    \n",
    "    user_f1=calc_f1(user_precision,user_recall)\n",
    "    total_f1+=user_f1\n",
    "    \n",
    "scaled_precision = total_precision/num_of_users\n",
    "scaled_recall=total_recall/num_of_users\n",
    "scaled_f1=total_f1/num_of_users\n",
    "    \n",
    "print scaled_precision\n",
    "print scaled_recall\n",
    "print scaled_f1\n",
    "\n"
   ]
  },
  {
   "cell_type": "code",
   "execution_count": null,
   "metadata": {},
   "outputs": [],
   "source": []
  },
  {
   "cell_type": "code",
   "execution_count": null,
   "metadata": {},
   "outputs": [],
   "source": []
  },
  {
   "cell_type": "code",
   "execution_count": null,
   "metadata": {},
   "outputs": [],
   "source": []
  },
  {
   "cell_type": "code",
   "execution_count": 2,
   "metadata": {},
   "outputs": [],
   "source": []
  },
  {
   "cell_type": "code",
   "execution_count": null,
   "metadata": {},
   "outputs": [],
   "source": []
  },
  {
   "cell_type": "code",
   "execution_count": null,
   "metadata": {},
   "outputs": [],
   "source": []
  }
 ],
 "metadata": {
  "kernelspec": {
   "display_name": "Python 2",
   "language": "python",
   "name": "python2"
  },
  "language_info": {
   "codemirror_mode": {
    "name": "ipython",
    "version": 2
   },
   "file_extension": ".py",
   "mimetype": "text/x-python",
   "name": "python",
   "nbconvert_exporter": "python",
   "pygments_lexer": "ipython2",
   "version": "2.7.14"
  }
 },
 "nbformat": 4,
 "nbformat_minor": 2
}
